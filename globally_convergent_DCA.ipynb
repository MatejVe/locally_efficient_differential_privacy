{
 "cells": [
  {
   "cell_type": "code",
   "execution_count": 14,
   "metadata": {},
   "outputs": [],
   "source": [
    "from DP.dca_global import dca_global\n",
    "from DP.linear_solver import linear_solver\n",
    "from DP.DP_tester import DP_tester\n",
    "from DP.utils import print_matrix, binom_optimal_privacy"
   ]
  },
  {
   "cell_type": "markdown",
   "metadata": {},
   "source": [
    "The crux of this algorithm is the following update rule:\n",
    "\n",
    "$$ x^{(k+1)} \\in argmin_{x \\in C} (g(x) - (h(x^{(k)}) + \\langle \\nabla h(x^{(k)}), x - x^{(k)} \\rangle)). $$\n",
    "\n",
    "This should be similar to a line search restricted onto the feasible set, or something similar. Definitely look into it."
   ]
  },
  {
   "cell_type": "markdown",
   "metadata": {},
   "source": [
    "## Bernoulli distribution"
   ]
  },
  {
   "cell_type": "code",
   "execution_count": 4,
   "metadata": {},
   "outputs": [
    {
     "name": "stdout",
     "output_type": "stream",
     "text": [
      "Max iterations reached without convergence\n",
      "row 0: 0.7310585781080527\t0.26894142189194725\n",
      "row 1: 0.2689414215820091\t0.7310585784179908\n"
     ]
    }
   ],
   "source": [
    "N = 1\n",
    "THETA = 0.5\n",
    "EPSILON = 1.0\n",
    "\n",
    "opt_q, status, history = binom_optimal_privacy(dca_global(), N, EPSILON, THETA)\n",
    "\n",
    "print(status)\n",
    "print_matrix(opt_q)"
   ]
  },
  {
   "cell_type": "markdown",
   "metadata": {},
   "source": [
    "## Binomial with two tries, $n=2, \\epsilon=1.0$"
   ]
  },
  {
   "cell_type": "code",
   "execution_count": 6,
   "metadata": {},
   "outputs": [
    {
     "name": "stdout",
     "output_type": "stream",
     "text": [
      "Max iterations reached without convergence\n",
      "row 0: 0.2689414209818217\t7.964499615376042e-10\t0.7310585782217283\n",
      "row 1: 0.7310585777497398\t3.4637881451971e-10\t0.2689414219038814\n",
      "row 2: 0.7310585772996732\t7.964486847811258e-10\t0.26894142190387826\n"
     ]
    }
   ],
   "source": [
    "N = 2\n",
    "THETA = 0.3\n",
    "EPSILON = 1.0\n",
    "\n",
    "opt_q, status, history = binom_optimal_privacy(dca_global(), N, EPSILON, THETA)\n",
    "\n",
    "print(status)\n",
    "print_matrix(opt_q)"
   ]
  },
  {
   "cell_type": "markdown",
   "metadata": {},
   "source": [
    "## $n = 2, \\epsilon = 2$"
   ]
  },
  {
   "cell_type": "code",
   "execution_count": 13,
   "metadata": {},
   "outputs": [
    {
     "name": "stderr",
     "output_type": "stream",
     "text": [
      "/Users/matej.vedak/Desktop/University of Vienna/Lukas master thesis/locally_efficient_differential_privacy/DP/utils.py:174: RuntimeWarning: invalid value encountered in divide\n",
      "  numerator = np.power(Q @ p_theta_dot, 2)\n",
      "/Users/matej.vedak/Desktop/University of Vienna/Lukas master thesis/locally_efficient_differential_privacy/DP/utils.py:101: RuntimeWarning: invalid value encountered in scalar divide\n",
      "  Q_ptheta = Q_row @ p_theta\n",
      "/Users/matej.vedak/Desktop/University of Vienna/Lukas master thesis/locally_efficient_differential_privacy/DP/utils.py:103: RuntimeWarning: invalid value encountered in scalar divide\n",
      "  gradient_matrix[i][j] = 2 * p_theta_dot[\n"
     ]
    },
    {
     "name": "stdout",
     "output_type": "stream",
     "text": [
      "Max iterations reached without convergence\n",
      "row 0: 0.8807970768439438\t8.96740348643732e-10\t0.11920292225931581\n",
      "row 1: 0.8807970779258522\t6.932823204408578e-10\t0.11920292138086575\n",
      "row 2: 0.11920292312117362\t9.203555695336263e-10\t0.8807970759584708\n"
     ]
    }
   ],
   "source": [
    "N = 2\n",
    "THETA = 0.5\n",
    "EPSILON = 2.0\n",
    "\n",
    "opt_q, status, history = binom_optimal_privacy(dca_global(), N, EPSILON, THETA)\n",
    "\n",
    "print(status)\n",
    "print_matrix(opt_q)"
   ]
  },
  {
   "cell_type": "markdown",
   "metadata": {},
   "source": [
    "## $n=1$ and $n=2$ optimal fisher information"
   ]
  },
  {
   "cell_type": "code",
   "execution_count": null,
   "metadata": {},
   "outputs": [],
   "source": []
  }
 ],
 "metadata": {
  "kernelspec": {
   "display_name": "venv",
   "language": "python",
   "name": "python3"
  },
  "language_info": {
   "codemirror_mode": {
    "name": "ipython",
    "version": 3
   },
   "file_extension": ".py",
   "mimetype": "text/x-python",
   "name": "python",
   "nbconvert_exporter": "python",
   "pygments_lexer": "ipython3",
   "version": "3.12.3"
  }
 },
 "nbformat": 4,
 "nbformat_minor": 2
}
